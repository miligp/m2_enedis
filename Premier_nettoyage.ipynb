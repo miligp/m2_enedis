{
 "cells": [
  {
   "cell_type": "code",
   "execution_count": 1,
   "id": "c4f94fca",
   "metadata": {},
   "outputs": [],
   "source": [
    "#Nettoyage des données\n",
    "import pandas as pd\n",
    "import numpy as np"
   ]
  },
  {
   "cell_type": "markdown",
   "id": "0dff3a34",
   "metadata": {},
   "source": [
    "## Importation des données"
   ]
  },
  {
   "cell_type": "code",
   "execution_count": 46,
   "id": "dde6d4f1",
   "metadata": {},
   "outputs": [
    {
     "name": "stderr",
     "output_type": "stream",
     "text": [
      "C:\\Users\\gopit\\AppData\\Local\\Temp\\ipykernel_28420\\511196890.py:3: DtypeWarning: Columns (5) have mixed types. Specify dtype option on import or set low_memory=False.\n",
      "  df_logement_anscien = pd.read_csv('dpe_data_complete_20251026_104213.csv', sep=';')\n"
     ]
    }
   ],
   "source": [
    "#IMPORTATION DES DONNÉES\n",
    "\n",
    "df_logement_anscien = pd.read_csv('dpe_data_complete_20251026_104213.csv', sep=';')\n",
    "df_logement_neuf = pd.read_csv('dpe_data_complete_neuf_20251026_172218.csv', sep=';')"
   ]
  },
  {
   "cell_type": "markdown",
   "id": "f8c08de2",
   "metadata": {},
   "source": [
    "## Visualisation des deux datasets"
   ]
  },
  {
   "cell_type": "code",
   "execution_count": 52,
   "id": "8f8094fb",
   "metadata": {},
   "outputs": [
    {
     "data": {
      "text/html": [
       "<div>\n",
       "<style scoped>\n",
       "    .dataframe tbody tr th:only-of-type {\n",
       "        vertical-align: middle;\n",
       "    }\n",
       "\n",
       "    .dataframe tbody tr th {\n",
       "        vertical-align: top;\n",
       "    }\n",
       "\n",
       "    .dataframe thead th {\n",
       "        text-align: right;\n",
       "    }\n",
       "</style>\n",
       "<table border=\"1\" class=\"dataframe\">\n",
       "  <thead>\n",
       "    <tr style=\"text-align: right;\">\n",
       "      <th></th>\n",
       "      <th>conso_5_usages_ef</th>\n",
       "      <th>conso_5_usages_ef_energie_n1</th>\n",
       "      <th>configuration_installation_chauffage_n1</th>\n",
       "      <th>conso_chauffage_installation_chauffage_n1</th>\n",
       "      <th>code_departement_ban</th>\n",
       "      <th>code_insee_ban</th>\n",
       "      <th>type_installation_chauffage_n1</th>\n",
       "      <th>type_generateur_n1_installation_n1</th>\n",
       "      <th>complement_adresse_logement</th>\n",
       "      <th>adresse_brut</th>\n",
       "      <th>...</th>\n",
       "      <th>code_postal_ban</th>\n",
       "      <th>surface_habitable_logement</th>\n",
       "      <th>etiquette_dpe</th>\n",
       "      <th>_score</th>\n",
       "      <th>code_postal_source</th>\n",
       "      <th>annee_recherche</th>\n",
       "      <th>date_extraction</th>\n",
       "      <th>nom_rue_ban</th>\n",
       "      <th>type_installation_chauffage</th>\n",
       "      <th>nombre_appartement</th>\n",
       "    </tr>\n",
       "  </thead>\n",
       "  <tbody>\n",
       "    <tr>\n",
       "      <th>0</th>\n",
       "      <td>27197.3</td>\n",
       "      <td>26019.9</td>\n",
       "      <td>Installation de chauffage simple</td>\n",
       "      <td>23676.5</td>\n",
       "      <td>69.0</td>\n",
       "      <td>69186</td>\n",
       "      <td>installation individuelle</td>\n",
       "      <td>Chaudière fioul basse température 1991-2015</td>\n",
       "      <td>Ce bien ne fait pas partie d'une copropriété</td>\n",
       "      <td>532 route de Rochenin</td>\n",
       "      <td>...</td>\n",
       "      <td>69790</td>\n",
       "      <td>133.6</td>\n",
       "      <td>E</td>\n",
       "      <td>44.682632</td>\n",
       "      <td>69790</td>\n",
       "      <td>2021</td>\n",
       "      <td>2025-10-26 09:27:34</td>\n",
       "      <td>NaN</td>\n",
       "      <td>NaN</td>\n",
       "      <td>NaN</td>\n",
       "    </tr>\n",
       "    <tr>\n",
       "      <th>1</th>\n",
       "      <td>43666.1</td>\n",
       "      <td>24049.0</td>\n",
       "      <td>Installation de chauffage simple</td>\n",
       "      <td>24049.0</td>\n",
       "      <td>69.0</td>\n",
       "      <td>69161</td>\n",
       "      <td>installation individuelle</td>\n",
       "      <td>Chaudière bois bûche avant 1978</td>\n",
       "      <td>Ce bien ne fait pas partie d'une copropriété</td>\n",
       "      <td>13, route de la Croix d'Ajou</td>\n",
       "      <td>...</td>\n",
       "      <td>69790</td>\n",
       "      <td>94.0</td>\n",
       "      <td>G</td>\n",
       "      <td>44.682632</td>\n",
       "      <td>69790</td>\n",
       "      <td>2021</td>\n",
       "      <td>2025-10-26 09:27:34</td>\n",
       "      <td>NaN</td>\n",
       "      <td>NaN</td>\n",
       "      <td>NaN</td>\n",
       "    </tr>\n",
       "    <tr>\n",
       "      <th>2</th>\n",
       "      <td>23582.8</td>\n",
       "      <td>23582.8</td>\n",
       "      <td>Installation de chauffage avec en appoint un i...</td>\n",
       "      <td>1.0</td>\n",
       "      <td>69.0</td>\n",
       "      <td>69182</td>\n",
       "      <td>installation individuelle</td>\n",
       "      <td>Cuisinière installé avant 1990</td>\n",
       "      <td>Ce bien ne fait pas partie d'une copropriété</td>\n",
       "      <td>290, chemin du vernay</td>\n",
       "      <td>...</td>\n",
       "      <td>69790</td>\n",
       "      <td>50.1</td>\n",
       "      <td>G</td>\n",
       "      <td>44.682632</td>\n",
       "      <td>69790</td>\n",
       "      <td>2021</td>\n",
       "      <td>2025-10-26 09:27:34</td>\n",
       "      <td>Chemin du Vernay</td>\n",
       "      <td>NaN</td>\n",
       "      <td>NaN</td>\n",
       "    </tr>\n",
       "    <tr>\n",
       "      <th>3</th>\n",
       "      <td>8533.5</td>\n",
       "      <td>8533.5</td>\n",
       "      <td>NaN</td>\n",
       "      <td>NaN</td>\n",
       "      <td>69.0</td>\n",
       "      <td>69182</td>\n",
       "      <td>NaN</td>\n",
       "      <td>NaN</td>\n",
       "      <td>Ce bien ne fait pas partie d'une copropriété</td>\n",
       "      <td>718 Route des Prôles \\nLieu-dit Les Vignys</td>\n",
       "      <td>...</td>\n",
       "      <td>69790</td>\n",
       "      <td>166.2</td>\n",
       "      <td>C</td>\n",
       "      <td>44.682632</td>\n",
       "      <td>69790</td>\n",
       "      <td>2021</td>\n",
       "      <td>2025-10-26 09:27:34</td>\n",
       "      <td>NaN</td>\n",
       "      <td>NaN</td>\n",
       "      <td>NaN</td>\n",
       "    </tr>\n",
       "    <tr>\n",
       "      <th>4</th>\n",
       "      <td>52983.8</td>\n",
       "      <td>52983.8</td>\n",
       "      <td>Installation de chauffage simple</td>\n",
       "      <td>1.0</td>\n",
       "      <td>69.0</td>\n",
       "      <td>69161</td>\n",
       "      <td>installation individuelle</td>\n",
       "      <td>Chaudière fioul standard 1991-2015</td>\n",
       "      <td>NaN</td>\n",
       "      <td>2101, route du Saint Rigaud</td>\n",
       "      <td>...</td>\n",
       "      <td>69790</td>\n",
       "      <td>134.2</td>\n",
       "      <td>G</td>\n",
       "      <td>44.682632</td>\n",
       "      <td>69790</td>\n",
       "      <td>2021</td>\n",
       "      <td>2025-10-26 09:27:34</td>\n",
       "      <td>Route du Saint-Rigaud</td>\n",
       "      <td>NaN</td>\n",
       "      <td>NaN</td>\n",
       "    </tr>\n",
       "  </tbody>\n",
       "</table>\n",
       "<p>5 rows × 41 columns</p>\n",
       "</div>"
      ],
      "text/plain": [
       "   conso_5_usages_ef  conso_5_usages_ef_energie_n1  \\\n",
       "0            27197.3                       26019.9   \n",
       "1            43666.1                       24049.0   \n",
       "2            23582.8                       23582.8   \n",
       "3             8533.5                        8533.5   \n",
       "4            52983.8                       52983.8   \n",
       "\n",
       "             configuration_installation_chauffage_n1  \\\n",
       "0                   Installation de chauffage simple   \n",
       "1                   Installation de chauffage simple   \n",
       "2  Installation de chauffage avec en appoint un i...   \n",
       "3                                                NaN   \n",
       "4                   Installation de chauffage simple   \n",
       "\n",
       "   conso_chauffage_installation_chauffage_n1  code_departement_ban  \\\n",
       "0                                    23676.5                  69.0   \n",
       "1                                    24049.0                  69.0   \n",
       "2                                        1.0                  69.0   \n",
       "3                                        NaN                  69.0   \n",
       "4                                        1.0                  69.0   \n",
       "\n",
       "  code_insee_ban type_installation_chauffage_n1  \\\n",
       "0          69186      installation individuelle   \n",
       "1          69161      installation individuelle   \n",
       "2          69182      installation individuelle   \n",
       "3          69182                            NaN   \n",
       "4          69161      installation individuelle   \n",
       "\n",
       "            type_generateur_n1_installation_n1  \\\n",
       "0  Chaudière fioul basse température 1991-2015   \n",
       "1              Chaudière bois bûche avant 1978   \n",
       "2               Cuisinière installé avant 1990   \n",
       "3                                          NaN   \n",
       "4           Chaudière fioul standard 1991-2015   \n",
       "\n",
       "                    complement_adresse_logement  \\\n",
       "0  Ce bien ne fait pas partie d'une copropriété   \n",
       "1  Ce bien ne fait pas partie d'une copropriété   \n",
       "2  Ce bien ne fait pas partie d'une copropriété   \n",
       "3  Ce bien ne fait pas partie d'une copropriété   \n",
       "4                                           NaN   \n",
       "\n",
       "                                 adresse_brut  ...  code_postal_ban  \\\n",
       "0                       532 route de Rochenin  ...            69790   \n",
       "1                13, route de la Croix d'Ajou  ...            69790   \n",
       "2                       290, chemin du vernay  ...            69790   \n",
       "3  718 Route des Prôles \\nLieu-dit Les Vignys  ...            69790   \n",
       "4                 2101, route du Saint Rigaud  ...            69790   \n",
       "\n",
       "   surface_habitable_logement etiquette_dpe     _score  code_postal_source  \\\n",
       "0                       133.6             E  44.682632               69790   \n",
       "1                        94.0             G  44.682632               69790   \n",
       "2                        50.1             G  44.682632               69790   \n",
       "3                       166.2             C  44.682632               69790   \n",
       "4                       134.2             G  44.682632               69790   \n",
       "\n",
       "  annee_recherche      date_extraction            nom_rue_ban  \\\n",
       "0            2021  2025-10-26 09:27:34                    NaN   \n",
       "1            2021  2025-10-26 09:27:34                    NaN   \n",
       "2            2021  2025-10-26 09:27:34       Chemin du Vernay   \n",
       "3            2021  2025-10-26 09:27:34                    NaN   \n",
       "4            2021  2025-10-26 09:27:34  Route du Saint-Rigaud   \n",
       "\n",
       "   type_installation_chauffage nombre_appartement  \n",
       "0                          NaN                NaN  \n",
       "1                          NaN                NaN  \n",
       "2                          NaN                NaN  \n",
       "3                          NaN                NaN  \n",
       "4                          NaN                NaN  \n",
       "\n",
       "[5 rows x 41 columns]"
      ]
     },
     "execution_count": 52,
     "metadata": {},
     "output_type": "execute_result"
    }
   ],
   "source": [
    "df_logement_anscien.head(5)"
   ]
  },
  {
   "cell_type": "code",
   "execution_count": 53,
   "id": "49bd4b48",
   "metadata": {},
   "outputs": [
    {
     "name": "stdout",
     "output_type": "stream",
     "text": [
      "<class 'pandas.core.frame.DataFrame'>\n",
      "RangeIndex: 1170868 entries, 0 to 1170867\n",
      "Data columns (total 41 columns):\n",
      " #   Column                                      Non-Null Count    Dtype  \n",
      "---  ------                                      --------------    -----  \n",
      " 0   conso_5_usages_ef                           1170840 non-null  float64\n",
      " 1   conso_5_usages_ef_energie_n1                1170840 non-null  float64\n",
      " 2   configuration_installation_chauffage_n1     1139772 non-null  object \n",
      " 3   conso_chauffage_installation_chauffage_n1   1139748 non-null  float64\n",
      " 4   code_departement_ban                        1169500 non-null  float64\n",
      " 5   code_insee_ban                              1170868 non-null  object \n",
      " 6   type_installation_chauffage_n1              1139772 non-null  object \n",
      " 7   type_generateur_n1_installation_n1          1139772 non-null  object \n",
      " 8   complement_adresse_logement                 817532 non-null   object \n",
      " 9   adresse_brut                                1170852 non-null  object \n",
      " 10  code_region_ban                             1169500 non-null  float64\n",
      " 11  cout_total_5_usages                         1170828 non-null  float64\n",
      " 12  zone_climatique                             1169436 non-null  object \n",
      " 13  hauteur_sous_plafond                        1170868 non-null  float64\n",
      " 14  surface_chauffee_installation_chauffage_n1  1139772 non-null  float64\n",
      " 15  nom_commune_ban                             1170868 non-null  object \n",
      " 16  annee_construction                          673840 non-null   float64\n",
      " 17  _geopoint                                   1170868 non-null  object \n",
      " 18  coordonnee_cartographique_x_ban             1170868 non-null  float64\n",
      " 19  qualite_isolation_murs                      1170784 non-null  object \n",
      " 20  type_generateur_chauffage_principal         1139772 non-null  object \n",
      " 21  type_batiment                               1170868 non-null  object \n",
      " 22  classe_altitude                             1169436 non-null  object \n",
      " 23  periode_construction                        1170868 non-null  object \n",
      " 24  type_energie_principale_chauffage           1170868 non-null  object \n",
      " 25  date_reception_dpe                          1170868 non-null  object \n",
      " 26  cout_total_5_usages_energie_n1              1170832 non-null  float64\n",
      " 27  adresse_ban                                 1168612 non-null  object \n",
      " 28  coordonnee_cartographique_y_ban             1170868 non-null  float64\n",
      " 29  type_energie_n1                             1170868 non-null  object \n",
      " 30  numero_etage_appartement                    1052032 non-null  float64\n",
      " 31  code_postal_ban                             1170868 non-null  int64  \n",
      " 32  surface_habitable_logement                  1146920 non-null  float64\n",
      " 33  etiquette_dpe                               1170868 non-null  object \n",
      " 34  _score                                      1170868 non-null  float64\n",
      " 35  code_postal_source                          1170868 non-null  int64  \n",
      " 36  annee_recherche                             1170868 non-null  int64  \n",
      " 37  date_extraction                             1170868 non-null  object \n",
      " 38  nom_rue_ban                                 1135184 non-null  object \n",
      " 39  type_installation_chauffage                 994104 non-null   object \n",
      " 40  nombre_appartement                          934452 non-null   float64\n",
      "dtypes: float64(16), int64(3), object(22)\n",
      "memory usage: 366.3+ MB\n",
      "None\n",
      "(1170868, 41)\n"
     ]
    }
   ],
   "source": [
    "print(df_logement_anscien.info())\n",
    "print(df_logement_anscien.shape)"
   ]
  },
  {
   "cell_type": "code",
   "execution_count": 54,
   "id": "fd036c8d",
   "metadata": {},
   "outputs": [
    {
     "data": {
      "text/html": [
       "<div>\n",
       "<style scoped>\n",
       "    .dataframe tbody tr th:only-of-type {\n",
       "        vertical-align: middle;\n",
       "    }\n",
       "\n",
       "    .dataframe tbody tr th {\n",
       "        vertical-align: top;\n",
       "    }\n",
       "\n",
       "    .dataframe thead th {\n",
       "        text-align: right;\n",
       "    }\n",
       "</style>\n",
       "<table border=\"1\" class=\"dataframe\">\n",
       "  <thead>\n",
       "    <tr style=\"text-align: right;\">\n",
       "      <th></th>\n",
       "      <th>emission_ges_5_usages_energie_n1</th>\n",
       "      <th>conso_5_usages_ef</th>\n",
       "      <th>conso_5_usages_ef_energie_n1</th>\n",
       "      <th>code_departement_ban</th>\n",
       "      <th>emission_ges_5_usages_par_m2</th>\n",
       "      <th>nombre_niveau_immeuble</th>\n",
       "      <th>surface_habitable_immeuble</th>\n",
       "      <th>conso_5_usages_ep</th>\n",
       "      <th>adresse_brut</th>\n",
       "      <th>code_region_ban</th>\n",
       "      <th>...</th>\n",
       "      <th>type_energie_n1</th>\n",
       "      <th>nom_commune_brut</th>\n",
       "      <th>nombre_niveau_logement</th>\n",
       "      <th>code_postal_ban</th>\n",
       "      <th>etiquette_dpe</th>\n",
       "      <th>surface_habitable_logement</th>\n",
       "      <th>_score</th>\n",
       "      <th>code_postal_source</th>\n",
       "      <th>annee_recherche</th>\n",
       "      <th>date_extraction</th>\n",
       "    </tr>\n",
       "  </thead>\n",
       "  <tbody>\n",
       "    <tr>\n",
       "      <th>0</th>\n",
       "      <td>27.5</td>\n",
       "      <td>2669.8</td>\n",
       "      <td>2669.8</td>\n",
       "      <td>69.0</td>\n",
       "      <td>1.7</td>\n",
       "      <td>1.0</td>\n",
       "      <td>116.6</td>\n",
       "      <td>6140.5</td>\n",
       "      <td>20, Rue du Général de Gaulle - Lot 4 - Chemin ...</td>\n",
       "      <td>84.0</td>\n",
       "      <td>...</td>\n",
       "      <td>Électricité</td>\n",
       "      <td>LE TREMBLAY SUR MAULDRE</td>\n",
       "      <td>1.0</td>\n",
       "      <td>69790</td>\n",
       "      <td>A</td>\n",
       "      <td>116.6</td>\n",
       "      <td>55.134613</td>\n",
       "      <td>69790</td>\n",
       "      <td>2021</td>\n",
       "      <td>2025-10-26 17:03:18</td>\n",
       "    </tr>\n",
       "    <tr>\n",
       "      <th>1</th>\n",
       "      <td>27.5</td>\n",
       "      <td>2669.8</td>\n",
       "      <td>2669.8</td>\n",
       "      <td>69.0</td>\n",
       "      <td>1.7</td>\n",
       "      <td>1.0</td>\n",
       "      <td>116.6</td>\n",
       "      <td>6140.5</td>\n",
       "      <td>20, Rue du Général de Gaulle - Lot 4 - Chemin ...</td>\n",
       "      <td>84.0</td>\n",
       "      <td>...</td>\n",
       "      <td>Électricité</td>\n",
       "      <td>LE TREMBLAY SUR MAULDRE</td>\n",
       "      <td>1.0</td>\n",
       "      <td>69790</td>\n",
       "      <td>A</td>\n",
       "      <td>116.6</td>\n",
       "      <td>55.134613</td>\n",
       "      <td>69790</td>\n",
       "      <td>2022</td>\n",
       "      <td>2025-10-26 17:03:20</td>\n",
       "    </tr>\n",
       "    <tr>\n",
       "      <th>2</th>\n",
       "      <td>27.5</td>\n",
       "      <td>2669.8</td>\n",
       "      <td>2669.8</td>\n",
       "      <td>69.0</td>\n",
       "      <td>1.7</td>\n",
       "      <td>1.0</td>\n",
       "      <td>116.6</td>\n",
       "      <td>6140.5</td>\n",
       "      <td>20, Rue du Général de Gaulle - Lot 4 - Chemin ...</td>\n",
       "      <td>84.0</td>\n",
       "      <td>...</td>\n",
       "      <td>Électricité</td>\n",
       "      <td>LE TREMBLAY SUR MAULDRE</td>\n",
       "      <td>1.0</td>\n",
       "      <td>69790</td>\n",
       "      <td>A</td>\n",
       "      <td>116.6</td>\n",
       "      <td>55.134613</td>\n",
       "      <td>69790</td>\n",
       "      <td>2023</td>\n",
       "      <td>2025-10-26 17:03:22</td>\n",
       "    </tr>\n",
       "    <tr>\n",
       "      <th>3</th>\n",
       "      <td>27.5</td>\n",
       "      <td>2669.8</td>\n",
       "      <td>2669.8</td>\n",
       "      <td>69.0</td>\n",
       "      <td>1.7</td>\n",
       "      <td>1.0</td>\n",
       "      <td>116.6</td>\n",
       "      <td>6140.5</td>\n",
       "      <td>20, Rue du Général de Gaulle - Lot 4 - Chemin ...</td>\n",
       "      <td>84.0</td>\n",
       "      <td>...</td>\n",
       "      <td>Électricité</td>\n",
       "      <td>LE TREMBLAY SUR MAULDRE</td>\n",
       "      <td>1.0</td>\n",
       "      <td>69790</td>\n",
       "      <td>A</td>\n",
       "      <td>116.6</td>\n",
       "      <td>55.134613</td>\n",
       "      <td>69790</td>\n",
       "      <td>2024</td>\n",
       "      <td>2025-10-26 17:03:24</td>\n",
       "    </tr>\n",
       "    <tr>\n",
       "      <th>4</th>\n",
       "      <td>1251.7</td>\n",
       "      <td>5723.1</td>\n",
       "      <td>5349.0</td>\n",
       "      <td>69.0</td>\n",
       "      <td>18.9</td>\n",
       "      <td>NaN</td>\n",
       "      <td>NaN</td>\n",
       "      <td>6209.4</td>\n",
       "      <td>de Verdun</td>\n",
       "      <td>84.0</td>\n",
       "      <td>...</td>\n",
       "      <td>Gaz naturel</td>\n",
       "      <td>TARARE</td>\n",
       "      <td>1.0</td>\n",
       "      <td>69170</td>\n",
       "      <td>C</td>\n",
       "      <td>67.8</td>\n",
       "      <td>34.385070</td>\n",
       "      <td>69170</td>\n",
       "      <td>2021</td>\n",
       "      <td>2025-10-26 17:03:27</td>\n",
       "    </tr>\n",
       "  </tbody>\n",
       "</table>\n",
       "<p>5 rows × 41 columns</p>\n",
       "</div>"
      ],
      "text/plain": [
       "   emission_ges_5_usages_energie_n1  conso_5_usages_ef  \\\n",
       "0                              27.5             2669.8   \n",
       "1                              27.5             2669.8   \n",
       "2                              27.5             2669.8   \n",
       "3                              27.5             2669.8   \n",
       "4                            1251.7             5723.1   \n",
       "\n",
       "   conso_5_usages_ef_energie_n1  code_departement_ban  \\\n",
       "0                        2669.8                  69.0   \n",
       "1                        2669.8                  69.0   \n",
       "2                        2669.8                  69.0   \n",
       "3                        2669.8                  69.0   \n",
       "4                        5349.0                  69.0   \n",
       "\n",
       "   emission_ges_5_usages_par_m2  nombre_niveau_immeuble  \\\n",
       "0                           1.7                     1.0   \n",
       "1                           1.7                     1.0   \n",
       "2                           1.7                     1.0   \n",
       "3                           1.7                     1.0   \n",
       "4                          18.9                     NaN   \n",
       "\n",
       "   surface_habitable_immeuble  conso_5_usages_ep  \\\n",
       "0                       116.6             6140.5   \n",
       "1                       116.6             6140.5   \n",
       "2                       116.6             6140.5   \n",
       "3                       116.6             6140.5   \n",
       "4                         NaN             6209.4   \n",
       "\n",
       "                                        adresse_brut  code_region_ban  ...  \\\n",
       "0  20, Rue du Général de Gaulle - Lot 4 - Chemin ...             84.0  ...   \n",
       "1  20, Rue du Général de Gaulle - Lot 4 - Chemin ...             84.0  ...   \n",
       "2  20, Rue du Général de Gaulle - Lot 4 - Chemin ...             84.0  ...   \n",
       "3  20, Rue du Général de Gaulle - Lot 4 - Chemin ...             84.0  ...   \n",
       "4                                          de Verdun             84.0  ...   \n",
       "\n",
       "   type_energie_n1         nom_commune_brut nombre_niveau_logement  \\\n",
       "0      Électricité  LE TREMBLAY SUR MAULDRE                    1.0   \n",
       "1      Électricité  LE TREMBLAY SUR MAULDRE                    1.0   \n",
       "2      Électricité  LE TREMBLAY SUR MAULDRE                    1.0   \n",
       "3      Électricité  LE TREMBLAY SUR MAULDRE                    1.0   \n",
       "4      Gaz naturel                   TARARE                    1.0   \n",
       "\n",
       "   code_postal_ban  etiquette_dpe surface_habitable_logement     _score  \\\n",
       "0            69790              A                      116.6  55.134613   \n",
       "1            69790              A                      116.6  55.134613   \n",
       "2            69790              A                      116.6  55.134613   \n",
       "3            69790              A                      116.6  55.134613   \n",
       "4            69170              C                       67.8  34.385070   \n",
       "\n",
       "  code_postal_source annee_recherche      date_extraction  \n",
       "0              69790            2021  2025-10-26 17:03:18  \n",
       "1              69790            2022  2025-10-26 17:03:20  \n",
       "2              69790            2023  2025-10-26 17:03:22  \n",
       "3              69790            2024  2025-10-26 17:03:24  \n",
       "4              69170            2021  2025-10-26 17:03:27  \n",
       "\n",
       "[5 rows x 41 columns]"
      ]
     },
     "execution_count": 54,
     "metadata": {},
     "output_type": "execute_result"
    }
   ],
   "source": [
    "df_logement_neuf.head(5)"
   ]
  },
  {
   "cell_type": "code",
   "execution_count": 55,
   "id": "48ab42c8",
   "metadata": {},
   "outputs": [
    {
     "name": "stdout",
     "output_type": "stream",
     "text": [
      "<class 'pandas.core.frame.DataFrame'>\n",
      "RangeIndex: 160420 entries, 0 to 160419\n",
      "Data columns (total 41 columns):\n",
      " #   Column                             Non-Null Count   Dtype  \n",
      "---  ------                             --------------   -----  \n",
      " 0   emission_ges_5_usages_energie_n1   160420 non-null  float64\n",
      " 1   conso_5_usages_ef                  160420 non-null  float64\n",
      " 2   conso_5_usages_ef_energie_n1       160420 non-null  float64\n",
      " 3   code_departement_ban               160356 non-null  float64\n",
      " 4   emission_ges_5_usages_par_m2       160420 non-null  float64\n",
      " 5   nombre_niveau_immeuble             147028 non-null  float64\n",
      " 6   surface_habitable_immeuble         146456 non-null  float64\n",
      " 7   conso_5_usages_ep                  160420 non-null  float64\n",
      " 8   adresse_brut                       160400 non-null  object \n",
      " 9   code_region_ban                    160356 non-null  float64\n",
      " 10  cout_total_5_usages                160420 non-null  float64\n",
      " 11  conso_5_usages_par_m2_ep           160420 non-null  float64\n",
      " 12  date_etablissement_dpe             160420 non-null  object \n",
      " 13  conso_ecs_ef_energie_n1            160420 non-null  float64\n",
      " 14  hauteur_sous_plafond               160420 non-null  float64\n",
      " 15  nom_commune_ban                    160420 non-null  object \n",
      " 16  conso_5_usages_par_m2_ef           160420 non-null  float64\n",
      " 17  _geopoint                          160420 non-null  object \n",
      " 18  nom_rue_ban                        152952 non-null  object \n",
      " 19  coordonnee_cartographique_x_ban    160420 non-null  float64\n",
      " 20  qualite_isolation_murs             160420 non-null  object \n",
      " 21  type_batiment                      160420 non-null  object \n",
      " 22  type_energie_principale_chauffage  160420 non-null  object \n",
      " 23  date_reception_dpe                 160420 non-null  object \n",
      " 24  cout_total_5_usages_energie_n1     160420 non-null  float64\n",
      " 25  qualite_isolation_plancher_bas     160280 non-null  object \n",
      " 26  emission_ges_5_usages              160420 non-null  float64\n",
      " 27  adresse_ban                        160420 non-null  object \n",
      " 28  nombre_appartement                 152236 non-null  float64\n",
      " 29  coordonnee_cartographique_y_ban    160420 non-null  float64\n",
      " 30  code_postal_brut                   160420 non-null  int64  \n",
      " 31  type_energie_n1                    160420 non-null  object \n",
      " 32  nom_commune_brut                   160416 non-null  object \n",
      " 33  nombre_niveau_logement             128328 non-null  float64\n",
      " 34  code_postal_ban                    160420 non-null  int64  \n",
      " 35  etiquette_dpe                      160420 non-null  object \n",
      " 36  surface_habitable_logement         158804 non-null  float64\n",
      " 37  _score                             160420 non-null  float64\n",
      " 38  code_postal_source                 160420 non-null  int64  \n",
      " 39  annee_recherche                    160420 non-null  int64  \n",
      " 40  date_extraction                    160420 non-null  object \n",
      "dtypes: float64(22), int64(4), object(15)\n",
      "memory usage: 50.2+ MB\n",
      "None\n",
      "(160420, 41)\n"
     ]
    }
   ],
   "source": [
    "print(df_logement_neuf.info())\n",
    "print(df_logement_neuf.shape)"
   ]
  },
  {
   "cell_type": "markdown",
   "id": "dad2de3c",
   "metadata": {},
   "source": [
    "## Valeurs manquantes"
   ]
  },
  {
   "cell_type": "code",
   "execution_count": 56,
   "id": "a0d12c43",
   "metadata": {},
   "outputs": [
    {
     "name": "stdout",
     "output_type": "stream",
     "text": [
      "conso_5_usages_ef                              0.002391\n",
      "conso_5_usages_ef_energie_n1                   0.002391\n",
      "configuration_installation_chauffage_n1        2.655807\n",
      "conso_chauffage_installation_chauffage_n1      2.657857\n",
      "code_departement_ban                           0.116836\n",
      "type_installation_chauffage_n1                 2.655807\n",
      "type_generateur_n1_installation_n1             2.655807\n",
      "complement_adresse_logement                   30.177270\n",
      "adresse_brut                                   0.001367\n",
      "code_region_ban                                0.116836\n",
      "cout_total_5_usages                            0.003416\n",
      "zone_climatique                                0.122302\n",
      "surface_chauffee_installation_chauffage_n1     2.655807\n",
      "annee_construction                            42.449533\n",
      "qualite_isolation_murs                         0.007174\n",
      "type_generateur_chauffage_principal            2.655807\n",
      "classe_altitude                                0.122302\n",
      "cout_total_5_usages_energie_n1                 0.003075\n",
      "adresse_ban                                    0.192678\n",
      "numero_etage_appartement                      10.149393\n",
      "surface_habitable_logement                     2.045320\n",
      "nom_rue_ban                                    3.047654\n",
      "type_installation_chauffage                   15.096834\n",
      "nombre_appartement                            20.191516\n",
      "dtype: float64\n"
     ]
    }
   ],
   "source": [
    "#Valeur manquante dans chaque colonne (en pourcentage) (si 0 ne pas afficher) (vm = valeur manquante)\n",
    "vm_percentage = df_logement_anscien.isnull().mean() * 100\n",
    "vm_percentage = vm_percentage[vm_percentage > 0]\n",
    "print(vm_percentage)"
   ]
  },
  {
   "cell_type": "code",
   "execution_count": 57,
   "id": "58f89064",
   "metadata": {},
   "outputs": [
    {
     "name": "stdout",
     "output_type": "stream",
     "text": [
      "code_departement_ban               0.039895\n",
      "nombre_niveau_immeuble             8.348086\n",
      "surface_habitable_immeuble         8.704650\n",
      "adresse_brut                       0.012467\n",
      "code_region_ban                    0.039895\n",
      "nom_rue_ban                        4.655280\n",
      "qualite_isolation_plancher_bas     0.087271\n",
      "nombre_appartement                 5.101608\n",
      "nom_commune_brut                   0.002493\n",
      "nombre_niveau_logement            20.004987\n",
      "surface_habitable_logement         1.007356\n",
      "dtype: float64\n"
     ]
    }
   ],
   "source": [
    "#Valeur manquante dans chaque colonne (en pourcentage) (si 0 ne pas afficher) (vm = valeur manquante)\n",
    "vm_percentage = df_logement_neuf.isnull().mean() * 100\n",
    "vm_percentage = vm_percentage[vm_percentage > 0]\n",
    "print(vm_percentage)"
   ]
  },
  {
   "cell_type": "code",
   "execution_count": 58,
   "id": "5a87abc7",
   "metadata": {},
   "outputs": [
    {
     "name": "stdout",
     "output_type": "stream",
     "text": [
      "Colonnes sans valeurs manquantes : ['code_insee_ban', 'hauteur_sous_plafond', 'nom_commune_ban', '_geopoint', 'coordonnee_cartographique_x_ban', 'type_batiment', 'periode_construction', 'type_energie_principale_chauffage', 'date_reception_dpe', 'coordonnee_cartographique_y_ban', 'type_energie_n1', 'code_postal_ban', 'etiquette_dpe', '_score', 'code_postal_source', 'annee_recherche', 'date_extraction']\n"
     ]
    }
   ],
   "source": [
    "#Liste des colonnes qui n'on pas de valeur manquante\n",
    "no_vm_columns = df_logement_anscien.columns[df_logement_anscien.isnull().sum() == 0].tolist()\n",
    "print(\"Colonnes sans valeurs manquantes :\", no_vm_columns)"
   ]
  },
  {
   "cell_type": "code",
   "execution_count": 59,
   "id": "6f9ef574",
   "metadata": {},
   "outputs": [
    {
     "name": "stdout",
     "output_type": "stream",
     "text": [
      "Colonnes sans valeurs manquantes : ['conso_5_usages_ef', 'conso_5_usages_ef_energie_n1', 'configuration_installation_chauffage_n1', 'code_departement_ban', 'type_generateur_n1_installation_n1', 'code_region_ban', 'cout_total_5_usages', 'zone_climatique', 'hauteur_sous_plafond', 'surface_chauffee_installation_chauffage_n1', 'nom_commune_ban', 'annee_construction', '_geopoint', 'qualite_isolation_murs', 'type_generateur_chauffage_principal', 'type_batiment', 'classe_altitude', 'periode_construction', 'type_energie_principale_chauffage', 'cout_total_5_usages_energie_n1', 'adresse_ban', 'type_energie_n1', 'numero_etage_appartement', 'code_postal_ban', '_score', 'code_postal_source', 'date_extraction', 'nom_rue_ban', 'type_installation_chauffage', 'nombre_appartement']\n"
     ]
    }
   ],
   "source": [
    "#Liste des colonnes qui n'on pas de valeur manquante\n",
    "no_vm_columns = df_logement_anscien.columns[df_logement_neuf.isnull().sum() == 0].tolist()\n",
    "print(\"Colonnes sans valeurs manquantes :\", no_vm_columns)"
   ]
  },
  {
   "cell_type": "markdown",
   "id": "38396133",
   "metadata": {},
   "source": [
    "### 1. Valeur manquantes de logement_anscien"
   ]
  },
  {
   "cell_type": "markdown",
   "id": "fb454640",
   "metadata": {},
   "source": [
    "1. type_installation_chauffage (multiple choix)"
   ]
  },
  {
   "cell_type": "code",
   "execution_count": 61,
   "id": "6f1d96f3",
   "metadata": {},
   "outputs": [
    {
     "data": {
      "text/plain": [
       "type_installation_chauffage\n",
       "individuel                      571588\n",
       "collectif                       395684\n",
       "mixte (collectif-individuel)     26832\n",
       "Name: count, dtype: int64"
      ]
     },
     "execution_count": 61,
     "metadata": {},
     "output_type": "execute_result"
    }
   ],
   "source": [
    "#Explication sur \"type_installation_chauffage\"\n",
    "df_logement_anscien['type_installation_chauffage'].value_counts()"
   ]
  },
  {
   "cell_type": "code",
   "execution_count": 67,
   "id": "e634624c",
   "metadata": {},
   "outputs": [
    {
     "data": {
      "text/plain": [
       "15.096834143558453"
      ]
     },
     "execution_count": 67,
     "metadata": {},
     "output_type": "execute_result"
    }
   ],
   "source": [
    "#Valeur manquantes de logement_anscien avec df_logement_anscien (pourcentage)\n",
    "(df_logement_anscien['type_installation_chauffage'].isnull().sum()*100/len(df_logement_anscien)).item()"
   ]
  },
  {
   "cell_type": "code",
   "execution_count": 68,
   "id": "18da35c9",
   "metadata": {},
   "outputs": [
    {
     "data": {
      "text/plain": [
       "np.int64(176764)"
      ]
     },
     "execution_count": 68,
     "metadata": {},
     "output_type": "execute_result"
    }
   ],
   "source": [
    "df_logement_anscien['type_installation_chauffage'].isnull().sum()"
   ]
  },
  {
   "cell_type": "code",
   "execution_count": 70,
   "id": "c2ef8a11",
   "metadata": {},
   "outputs": [
    {
     "data": {
      "text/plain": [
       "1189977"
      ]
     },
     "execution_count": 70,
     "metadata": {},
     "output_type": "execute_result"
    }
   ],
   "source": [
    "1366741-176764"
   ]
  },
  {
   "cell_type": "markdown",
   "id": "d2a52e07",
   "metadata": {},
   "source": [
    "Je choisi de supprimé ligne qui on des valeur manquante de cette colonne"
   ]
  },
  {
   "cell_type": "code",
   "execution_count": 72,
   "id": "690ca3ac",
   "metadata": {},
   "outputs": [
    {
     "data": {
      "text/plain": [
       "np.int64(0)"
      ]
     },
     "execution_count": 72,
     "metadata": {},
     "output_type": "execute_result"
    }
   ],
   "source": [
    "#Suppression les lignes avec des valeurs manquantes dans la colonne \"type_installation_chauffage\"\n",
    "df_logement_anscien = df_logement_anscien.dropna(subset=['type_installation_chauffage'])\n",
    "df_logement_anscien['type_installation_chauffage'].isnull().sum()\n"
   ]
  },
  {
   "cell_type": "markdown",
   "id": "0b5c1ee1",
   "metadata": {},
   "source": [
    "2. type_energie_principale_chauffage (multichoix)"
   ]
  },
  {
   "cell_type": "code",
   "execution_count": 74,
   "id": "c58703f7",
   "metadata": {},
   "outputs": [
    {
     "data": {
      "text/plain": [
       "type_energie_principale_chauffage\n",
       "Gaz naturel                                                     477192\n",
       "Électricité                                                     335852\n",
       "Réseau de Chauffage urbain                                      167420\n",
       "Fioul domestique                                                  5924\n",
       "Bois – Granulés (pellets) ou briquettes                           4268\n",
       "Bois – Bûches                                                     1556\n",
       "GPL                                                               1100\n",
       "Propane                                                            536\n",
       "Bois – Plaquettes d’industrie                                      116\n",
       "Bois – Plaquettes forestières                                       80\n",
       "Charbon                                                             44\n",
       "Électricité d'origine renouvelable utilisée dans le bâtiment         8\n",
       "Butane                                                               8\n",
       "Name: count, dtype: int64"
      ]
     },
     "execution_count": 74,
     "metadata": {},
     "output_type": "execute_result"
    }
   ],
   "source": [
    "#Exploration \"type_energie_principale_chauffage\"\n",
    "df_logement_anscien['type_energie_principale_chauffage'].value_counts()"
   ]
  },
  {
   "cell_type": "code",
   "execution_count": 75,
   "id": "1e34c91e",
   "metadata": {},
   "outputs": [
    {
     "data": {
      "text/plain": [
       "0.0"
      ]
     },
     "execution_count": 75,
     "metadata": {},
     "output_type": "execute_result"
    }
   ],
   "source": [
    "#Valeur manquantes de logement_anscien avec df_logement_anscien (pourcentage)\n",
    "(df_logement_anscien['type_energie_principale_chauffage'].isnull().sum()*100/len(df_logement_anscien)).item()"
   ]
  },
  {
   "cell_type": "code",
   "execution_count": 78,
   "id": "9bcf305b",
   "metadata": {},
   "outputs": [],
   "source": [
    "#Regroupement des types d'énergie principale de chauffage\n",
    "energie_regroupement = {\n",
    "    'Gaz naturel': 'Gaz naturel',\n",
    "    'Électricité': 'Électricité',\n",
    "    'Réseau de Chauffage urbain': 'Réseau de chauffage urbain',\n",
    "    'Fioul domestique': 'Fioul',\n",
    "    'Bois – Granulés (pellets) ou briquettes': 'Bois et biomasse',\n",
    "    'Bois – Bûches': 'Bois et biomasse',\n",
    "    'Bois – Plaquettes d’industrie': 'Bois et biomasse',\n",
    "    'Bois – Plaquettes forestières': 'Bois et biomasse',\n",
    "    'GPL': 'Gaz (GPL/Propane/Butane)',\n",
    "    'Propane': 'Gaz (GPL/Propane/Butane)',\n",
    "    'Butane': 'Gaz (GPL/Propane/Butane)',\n",
    "    'Charbon': 'Charbon',\n",
    "    'Électricité d\\'origine renouvelable utilisée dans le bâtiment': 'Électricité'\n",
    "}\n",
    "\n",
    "# Appliquer le mapping\n",
    "df_logement_anscien['type_energie_principale_chauffage'] = df_logement_anscien['type_energie_principale_chauffage'].map(energie_regroupement)\n"
   ]
  },
  {
   "cell_type": "code",
   "execution_count": 79,
   "id": "328fa7e5",
   "metadata": {},
   "outputs": [
    {
     "data": {
      "text/plain": [
       "type_energie_principale_chauffage\n",
       "Gaz naturel                   477192\n",
       "Électricité                   335860\n",
       "Réseau de chauffage urbain    167420\n",
       "Bois et biomasse                6020\n",
       "Fioul                           5924\n",
       "Gaz (GPL/Propane/Butane)        1644\n",
       "Charbon                           44\n",
       "Name: count, dtype: int64"
      ]
     },
     "execution_count": 79,
     "metadata": {},
     "output_type": "execute_result"
    }
   ],
   "source": [
    "#Exploration \"type_energie_principale_chauffage\"\n",
    "df_logement_anscien['type_energie_principale_chauffage'].value_counts()"
   ]
  },
  {
   "cell_type": "markdown",
   "id": "b9016869",
   "metadata": {},
   "source": [
    "3. configuration_installation_chauffage_n1"
   ]
  },
  {
   "cell_type": "code",
   "execution_count": 80,
   "id": "b31b5cf7",
   "metadata": {},
   "outputs": [
    {
     "data": {
      "text/plain": [
       "configuration_installation_chauffage_n1\n",
       "Installation de chauffage simple                                                                                                                         958424\n",
       "Installation de chauffage collectif avec Base + appoint                                                                                                    7500\n",
       "Installation de chauffage avec insert ou poêle bois en appoint                                                                                             2904\n",
       "Convecteurs bi-jonction                                                                                                                                    1112\n",
       "Installation de chauffage avec une chaudière ou une PAC en relève d’une chaudière bois                                                                      488\n",
       "Installation de chauffage avec chaudière en relève de PAC                                                                                                   240\n",
       "Installation de chauffage avec en appoint un insert ou poêle bois et un chauffage électrique dans la salle de bain (différent du chauffage principal)       216\n",
       "Installation de chauffage par insert, poêle bois (ou biomasse) avec un chauffage électrique dans la salle de bain                                           100\n",
       "Installation de chauffage avec chauffage solaire                                                                                                            100\n",
       "Installation de chauffage avec chauffage solaire et insert ou poêle bois en appoint                                                                           4\n",
       "Name: count, dtype: int64"
      ]
     },
     "execution_count": 80,
     "metadata": {},
     "output_type": "execute_result"
    }
   ],
   "source": [
    "#Explication sur \"configuration_installation_chauffage_n1\"\n",
    "df_logement_anscien['configuration_installation_chauffage_n1'].value_counts()"
   ]
  },
  {
   "cell_type": "code",
   "execution_count": 81,
   "id": "fd9c22ff",
   "metadata": {},
   "outputs": [
    {
     "data": {
      "text/plain": [
       "2.315250718234712"
      ]
     },
     "execution_count": 81,
     "metadata": {},
     "output_type": "execute_result"
    }
   ],
   "source": [
    "#Valeur manquantes de logement_anscien avec df_logement_anscien (pourcentage)\n",
    "(df_logement_anscien['configuration_installation_chauffage_n1'].isnull().sum()*100/len(df_logement_anscien)).item()"
   ]
  },
  {
   "cell_type": "code",
   "execution_count": 82,
   "id": "6691d8f5",
   "metadata": {},
   "outputs": [
    {
     "data": {
      "text/plain": [
       "np.int64(23016)"
      ]
     },
     "execution_count": 82,
     "metadata": {},
     "output_type": "execute_result"
    }
   ],
   "source": [
    "df_logement_anscien['configuration_installation_chauffage_n1'].isnull().sum()"
   ]
  },
  {
   "cell_type": "markdown",
   "id": "5495b2d4",
   "metadata": {},
   "source": [
    "Suppression de la colonne. Pour ne pas supprimer encore des lignes. Simplifier le dataframe, eviter overfitting sur des categorie compliqué (qualitative)"
   ]
  },
  {
   "cell_type": "code",
   "execution_count": 85,
   "id": "d7c5fe6a",
   "metadata": {},
   "outputs": [],
   "source": [
    "#Suppression de la colonnes. \n",
    "df_logement_anscien = df_logement_anscien.drop(columns=['configuration_installation_chauffage_n1'])\n"
   ]
  },
  {
   "cell_type": "markdown",
   "id": "afbdaf94",
   "metadata": {},
   "source": [
    "4. Complement_adresse_logement"
   ]
  },
  {
   "cell_type": "code",
   "execution_count": 86,
   "id": "15aba658",
   "metadata": {},
   "outputs": [
    {
     "data": {
      "text/plain": [
       "complement_adresse_logement\n",
       "Etage 1                                                                         23164\n",
       "Etage 2                                                                         19564\n",
       "Etage 3                                                                         14072\n",
       "Etage RDC                                                                       12516\n",
       "Etage : NC                                                                      11300\n",
       "                                                                                ...  \n",
       "413033 BAT:C715-01 - ENT:C715-01-01 - MOD:413033 - CodeMission:413033-E42871        4\n",
       "413029 BAT:C715-01 - ENT:C715-01-01 - MOD:413029 - CodeMission:413029-E42871        4\n",
       "412992 BAT:C715-01 - ENT:C715-01-01 - MOD:412992 - CodeMission:412992-E42871        4\n",
       "413028 BAT:C715-01 - ENT:C715-01-01 - MOD:413028 - CodeMission:413028-E42871        4\n",
       "Duplex partie Gauche du bâtiment                                                    4\n",
       "Name: count, Length: 82970, dtype: int64"
      ]
     },
     "execution_count": 86,
     "metadata": {},
     "output_type": "execute_result"
    }
   ],
   "source": [
    "#Explication \"complement_adresse_logement \"\n",
    "df_logement_anscien['complement_adresse_logement'].value_counts()"
   ]
  },
  {
   "cell_type": "code",
   "execution_count": 87,
   "id": "6aed4bde",
   "metadata": {},
   "outputs": [
    {
     "data": {
      "text/plain": [
       "22.00574587769489"
      ]
     },
     "execution_count": 87,
     "metadata": {},
     "output_type": "execute_result"
    }
   ],
   "source": [
    "(df_logement_anscien['complement_adresse_logement'].isnull().sum()*100/len(df_logement_anscien)).item()"
   ]
  },
  {
   "cell_type": "markdown",
   "id": "437820cd",
   "metadata": {},
   "source": [
    "Trop de valeur manquante pour un complement de l'adresse (22%). Il est preferable de supprimé la colonne. "
   ]
  },
  {
   "cell_type": "code",
   "execution_count": 88,
   "id": "cd517b22",
   "metadata": {},
   "outputs": [],
   "source": [
    "#Supprimener la colonne \"complement_adresse_logement \" \n",
    "df_logement_anscien = df_logement_anscien.drop(columns=['complement_adresse_logement']) "
   ]
  },
  {
   "cell_type": "markdown",
   "id": "bf108959",
   "metadata": {},
   "source": [
    "5. periode_construction (0 valeurs manquantes) vs annee de construction (42% beaucoup trop important)"
   ]
  },
  {
   "cell_type": "code",
   "execution_count": 90,
   "id": "fb4e45de",
   "metadata": {},
   "outputs": [
    {
     "data": {
      "text/plain": [
       "periode_construction\n",
       "1948-1974     353048\n",
       "avant 1948    255600\n",
       "2006-2012      88700\n",
       "2013-2021      84408\n",
       "1989-2000      75416\n",
       "1975-1977      44188\n",
       "1983-1988      34284\n",
       "1978-1982      27916\n",
       "2001-2005      25940\n",
       "après 2021      4604\n",
       "Name: count, dtype: int64"
      ]
     },
     "execution_count": 90,
     "metadata": {},
     "output_type": "execute_result"
    }
   ],
   "source": [
    "#Explication de \"periode_construction\"\n",
    "df_logement_anscien['periode_construction'].value_counts()"
   ]
  },
  {
   "cell_type": "code",
   "execution_count": 91,
   "id": "01577c70",
   "metadata": {},
   "outputs": [
    {
     "data": {
      "text/plain": [
       "annee_construction\n",
       "1970.0    30852\n",
       "1947.0    29512\n",
       "1948.0    21524\n",
       "1966.0    20196\n",
       "1975.0    17884\n",
       "          ...  \n",
       "1855.0        4\n",
       "1460.0        4\n",
       "1812.0        4\n",
       "1873.0        4\n",
       "1886.0        4\n",
       "Name: count, Length: 199, dtype: int64"
      ]
     },
     "execution_count": 91,
     "metadata": {},
     "output_type": "execute_result"
    }
   ],
   "source": [
    "#Elplication de \"Annee_construction\"\n",
    "df_logement_anscien['annee_construction'].value_counts()"
   ]
  },
  {
   "cell_type": "markdown",
   "id": "a56a28da",
   "metadata": {},
   "source": [
    "42% des valeurs de la colonne \"Annee_construction\" sont manquantes. On va donc la supprimer puisqu'on a déjà la colonne \"periode_construction\" qui donne une idée de l'ancienneté du logement."
   ]
  },
  {
   "cell_type": "code",
   "execution_count": 92,
   "id": "458c9330",
   "metadata": {},
   "outputs": [],
   "source": [
    "\n",
    "df_logement_anscien = df_logement_anscien.drop(columns=['annee_construction'])"
   ]
  },
  {
   "cell_type": "markdown",
   "id": "8305f110",
   "metadata": {},
   "source": [
    "6. type_generateur_chauffage_principal"
   ]
  },
  {
   "cell_type": "code",
   "execution_count": 93,
   "id": "ac36ae1b",
   "metadata": {},
   "outputs": [
    {
     "data": {
      "text/plain": [
       "type_generateur_chauffage_principal\n",
       "Réseau de chaleur isolé                                      133984\n",
       "Chaudière gaz à condensation après 2015                      127036\n",
       "Chaudière gaz à condensation 2001-2015                       111524\n",
       "Radiateur électrique à accumulation                           90028\n",
       "Chaudière gaz standard 2001-2015                              88384\n",
       "                                                              ...  \n",
       "autre système à combustion fioul                                  4\n",
       "poêle à bois bouilleur granulés installé à partir de 2012         4\n",
       "Foyer fermé installé entre 1990 et 2004                           4\n",
       "PAC eau glycolée/eau installée entre 2015 et 2016                 4\n",
       "Chaudière gpl/propane/butane classique 1986-1990                  4\n",
       "Name: count, Length: 123, dtype: int64"
      ]
     },
     "execution_count": 93,
     "metadata": {},
     "output_type": "execute_result"
    }
   ],
   "source": [
    "#Explication \"type_generateur_chauffage_principal\"\n",
    "df_logement_anscien['type_generateur_chauffage_principal'].value_counts()"
   ]
  },
  {
   "cell_type": "markdown",
   "id": "42b1e6dd",
   "metadata": {},
   "source": [
    "Trop de catégorie plus de 123, avec 2% de valeur manquante. Pas forcement plus d'apport que type d'energie principale. "
   ]
  },
  {
   "cell_type": "code",
   "execution_count": 94,
   "id": "993cf5b3",
   "metadata": {},
   "outputs": [],
   "source": [
    "#Supprimer la colonne \"type_generateur_chauffage_principal\"\n",
    "df_logement_anscien = df_logement_anscien.drop(columns=['type_generateur_chauffage_principal'])"
   ]
  },
  {
   "cell_type": "markdown",
   "id": "637c5cb1",
   "metadata": {},
   "source": [
    "7. nombre_appartement"
   ]
  },
  {
   "cell_type": "code",
   "execution_count": 95,
   "id": "0cb0116a",
   "metadata": {},
   "outputs": [
    {
     "data": {
      "text/plain": [
       "nombre_appartement\n",
       "1.0      532052\n",
       "20.0      29256\n",
       "40.0      17144\n",
       "30.0      13312\n",
       "24.0      10504\n",
       "          ...  \n",
       "190.0         4\n",
       "301.0         4\n",
       "296.0         4\n",
       "194.0         4\n",
       "138.0         4\n",
       "Name: count, Length: 265, dtype: int64"
      ]
     },
     "execution_count": 95,
     "metadata": {},
     "output_type": "execute_result"
    }
   ],
   "source": [
    "#Explication de \"nombre_appartement\"\n",
    "df_logement_anscien['nombre_appartement'].value_counts()"
   ]
  },
  {
   "cell_type": "markdown",
   "id": "5ce37f72",
   "metadata": {},
   "source": [
    "8. Surface_chauffe_installation_chauffage_n1 = surface_habitable_logement "
   ]
  },
  {
   "cell_type": "code",
   "execution_count": 97,
   "id": "493850d6",
   "metadata": {},
   "outputs": [
    {
     "data": {
      "text/plain": [
       "23    60.0\n",
       "24    60.0\n",
       "27    60.0\n",
       "32    60.0\n",
       "35    69.5\n",
       "Name: surface_chauffee_installation_chauffage_n1, dtype: float64"
      ]
     },
     "execution_count": 97,
     "metadata": {},
     "output_type": "execute_result"
    }
   ],
   "source": [
    "df_logement_anscien['surface_chauffee_installation_chauffage_n1'].head(5)"
   ]
  },
  {
   "cell_type": "code",
   "execution_count": 98,
   "id": "79b1ae12",
   "metadata": {},
   "outputs": [
    {
     "data": {
      "text/plain": [
       "23    60.0\n",
       "24    60.0\n",
       "27    60.0\n",
       "32    60.0\n",
       "35    69.5\n",
       "Name: surface_habitable_logement, dtype: float64"
      ]
     },
     "execution_count": 98,
     "metadata": {},
     "output_type": "execute_result"
    }
   ],
   "source": [
    "df_logement_anscien['surface_habitable_logement'].head(5)"
   ]
  },
  {
   "cell_type": "code",
   "execution_count": 99,
   "id": "a0a7643e",
   "metadata": {},
   "outputs": [
    {
     "name": "stdout",
     "output_type": "stream",
     "text": [
      "536\n"
     ]
    }
   ],
   "source": [
    "# Nombre de lignes avec valeurs manquantes dans les deux colonnes à la fois\n",
    "missing_surface = df_logement_anscien[\n",
    "    df_logement_anscien['surface_chauffee_installation_chauffage_n1'].isnull() &\n",
    "    df_logement_anscien['surface_habitable_logement'].isnull()\n",
    "]\n",
    "print(missing_surface.shape[0])"
   ]
  },
  {
   "cell_type": "code",
   "execution_count": 100,
   "id": "acdaac8f",
   "metadata": {},
   "outputs": [],
   "source": [
    "#Supprimer ces lignes \n",
    "df_logement_anscien = df_logement_anscien.drop(missing_surface.index)"
   ]
  },
  {
   "cell_type": "code",
   "execution_count": 101,
   "id": "8085a16c",
   "metadata": {},
   "outputs": [],
   "source": [
    "#Maintenant si il y a des valeurs manquantes dans \"surface_chauffee_installation_chauffage_n1\", on les remplit avec les valeurs de \"surface_habitable_logement\"\n",
    "df_logement_anscien['surface_chauffee_installation_chauffage_n1'] = df_logement_anscien['surface_chauffee_installation_chauffage_n1'].fillna(\n",
    "    df_logement_anscien['surface_habitable_logement'])\n",
    "\n",
    "#Et l'inverse pour \"surface_habitable_logement\"\n",
    "df_logement_anscien['surface_habitable_logement'] = df_logement_anscien['surface_habitable_logement'].fillna(\n",
    "    df_logement_anscien['surface_chauffee_installation_chauffage_n1'])\n"
   ]
  },
  {
   "cell_type": "code",
   "execution_count": 104,
   "id": "642a3b61",
   "metadata": {},
   "outputs": [
    {
     "data": {
      "text/plain": [
       "0.0"
      ]
     },
     "execution_count": 104,
     "metadata": {},
     "output_type": "execute_result"
    }
   ],
   "source": [
    "(df_logement_anscien['surface_chauffee_installation_chauffage_n1'].isnull().sum()*100/len(df_logement_anscien)).item()"
   ]
  },
  {
   "cell_type": "code",
   "execution_count": 105,
   "id": "6f697d4b",
   "metadata": {},
   "outputs": [
    {
     "data": {
      "text/plain": [
       "0.0"
      ]
     },
     "execution_count": 105,
     "metadata": {},
     "output_type": "execute_result"
    }
   ],
   "source": [
    "(df_logement_anscien['surface_habitable_logement'].isnull().sum()*100/len(df_logement_anscien)).item()"
   ]
  },
  {
   "cell_type": "markdown",
   "id": "f632018f",
   "metadata": {},
   "source": [
    "Puisque nous avons deja surface habitable et que les valeur sont les mêmes je suprime l'une des deux 'surface_chauffee_installation_chauffage_n1'"
   ]
  },
  {
   "cell_type": "code",
   "execution_count": 106,
   "id": "04f78058",
   "metadata": {},
   "outputs": [],
   "source": [
    "#supprimer la colonne 'surface_chauffee_installation_chauffage_n1'\n",
    "df_logement_anscien = df_logement_anscien.drop(columns=['surface_chauffee_installation_chauffage_n1'])"
   ]
  },
  {
   "cell_type": "markdown",
   "id": "10afd984",
   "metadata": {},
   "source": [
    "9. Latitude et Longétude "
   ]
  },
  {
   "cell_type": "code",
   "execution_count": 120,
   "id": "cb3db5e7",
   "metadata": {},
   "outputs": [],
   "source": [
    "df_logement_anscien[['latitude', 'longitude']] = df_logement_anscien['_geopoint'].str.split(',', expand=True)"
   ]
  },
  {
   "cell_type": "code",
   "execution_count": 127,
   "id": "241fc6e6",
   "metadata": {},
   "outputs": [
    {
     "data": {
      "text/plain": [
       "23         4.434598991483621\n",
       "24         4.434598991483621\n",
       "27         4.434598991483621\n",
       "32         4.434598991483621\n",
       "35         4.437585026879258\n",
       "                 ...        \n",
       "1170857    4.694136970169236\n",
       "1170860    4.694722997951528\n",
       "1170862    4.693923023910553\n",
       "1170865    4.693978047177284\n",
       "1170866    4.691196995331549\n",
       "Name: longitude, Length: 993568, dtype: object"
      ]
     },
     "execution_count": 127,
     "metadata": {},
     "output_type": "execute_result"
    }
   ],
   "source": [
    "df_logement_anscien['longitude']"
   ]
  },
  {
   "cell_type": "code",
   "execution_count": 128,
   "id": "8743d196",
   "metadata": {},
   "outputs": [],
   "source": [
    "#Supprimer Latitude et longétude \n",
    "df_logement_anscien = df_logement_anscien.drop(columns=['_geopoint'])"
   ]
  },
  {
   "cell_type": "markdown",
   "id": "d51335ce",
   "metadata": {},
   "source": [
    "Crée une colonne logement avec la valeur ancien"
   ]
  },
  {
   "cell_type": "code",
   "execution_count": 129,
   "id": "06e97b57",
   "metadata": {},
   "outputs": [],
   "source": [
    "#Crée une colonne logement avec la valeur ancien. \n",
    "df_logement_anscien['logement'] = 'ancien'\n"
   ]
  },
  {
   "cell_type": "code",
   "execution_count": 130,
   "id": "580372a5",
   "metadata": {},
   "outputs": [
    {
     "data": {
      "text/plain": [
       "23         ancien\n",
       "24         ancien\n",
       "27         ancien\n",
       "32         ancien\n",
       "35         ancien\n",
       "            ...  \n",
       "1170857    ancien\n",
       "1170860    ancien\n",
       "1170862    ancien\n",
       "1170865    ancien\n",
       "1170866    ancien\n",
       "Name: logement, Length: 993568, dtype: object"
      ]
     },
     "execution_count": 130,
     "metadata": {},
     "output_type": "execute_result"
    }
   ],
   "source": [
    "df_logement_anscien['logement'] "
   ]
  },
  {
   "cell_type": "markdown",
   "id": "6b37092f",
   "metadata": {},
   "source": [
    "#### Recap "
   ]
  },
  {
   "cell_type": "markdown",
   "id": "d035cd32",
   "metadata": {},
   "source": [
    "Les colonnes avec le plus de valeur manquante on été traiter "
   ]
  },
  {
   "cell_type": "code",
   "execution_count": 131,
   "id": "c10a27be",
   "metadata": {},
   "outputs": [
    {
     "name": "stdout",
     "output_type": "stream",
     "text": [
      "conso_5_usages_ef                            0.000403\n",
      "conso_5_usages_ef_energie_n1                 0.000403\n",
      "conso_chauffage_installation_chauffage_n1    2.262553\n",
      "code_departement_ban                         0.098232\n",
      "type_installation_chauffage_n1               2.262553\n",
      "type_generateur_n1_installation_n1           2.262553\n",
      "adresse_brut                                 0.001610\n",
      "code_region_ban                              0.098232\n",
      "cout_total_5_usages                          0.001610\n",
      "zone_climatique                              0.066830\n",
      "qualite_isolation_murs                       0.008454\n",
      "classe_altitude                              0.066830\n",
      "cout_total_5_usages_energie_n1               0.001208\n",
      "adresse_ban                                  0.212567\n",
      "numero_etage_appartement                     9.313504\n",
      "nom_rue_ban                                  2.930046\n",
      "nombre_appartement                           6.604883\n",
      "dtype: float64\n"
     ]
    }
   ],
   "source": [
    "missing_percentage = df_logement_anscien.isnull().mean() * 100\n",
    "missing_percentage = missing_percentage[missing_percentage > 0]\n",
    "print(missing_percentage)"
   ]
  },
  {
   "cell_type": "code",
   "execution_count": 132,
   "id": "ef949e6a",
   "metadata": {},
   "outputs": [
    {
     "data": {
      "text/plain": [
       "(993568, 39)"
      ]
     },
     "execution_count": 132,
     "metadata": {},
     "output_type": "execute_result"
    }
   ],
   "source": [
    "df_logement_anscien.shape"
   ]
  },
  {
   "cell_type": "code",
   "execution_count": 133,
   "id": "bfd43984",
   "metadata": {},
   "outputs": [
    {
     "name": "stdout",
     "output_type": "stream",
     "text": [
      "['conso_5_usages_ef', 'conso_5_usages_ef_energie_n1', 'conso_chauffage_installation_chauffage_n1', 'code_departement_ban', 'code_insee_ban', 'type_installation_chauffage_n1', 'type_generateur_n1_installation_n1', 'adresse_brut', 'code_region_ban', 'cout_total_5_usages', 'zone_climatique', 'hauteur_sous_plafond', 'nom_commune_ban', 'coordonnee_cartographique_x_ban', 'qualite_isolation_murs', 'type_batiment', 'classe_altitude', 'periode_construction', 'type_energie_principale_chauffage', 'date_reception_dpe', 'cout_total_5_usages_energie_n1', 'adresse_ban', 'coordonnee_cartographique_y_ban', 'type_energie_n1', 'numero_etage_appartement', 'code_postal_ban', 'surface_habitable_logement', 'etiquette_dpe', '_score', 'code_postal_source', 'annee_recherche', 'date_extraction', 'nom_rue_ban', 'type_installation_chauffage', 'nombre_appartement', 'energie_groupee', 'logement', 'latitude', 'longitude']\n"
     ]
    }
   ],
   "source": [
    "#liste des colonnes restantes toute la liste \n",
    "remaining_columns = df_logement_anscien.columns.tolist()\n",
    "print(remaining_columns)"
   ]
  },
  {
   "cell_type": "markdown",
   "id": "65c0e0c2",
   "metadata": {},
   "source": [
    "## Valeurs manquantes Logement Neuf "
   ]
  },
  {
   "cell_type": "code",
   "execution_count": 142,
   "id": "eff6a21d",
   "metadata": {},
   "outputs": [
    {
     "data": {
      "text/html": [
       "<div>\n",
       "<style scoped>\n",
       "    .dataframe tbody tr th:only-of-type {\n",
       "        vertical-align: middle;\n",
       "    }\n",
       "\n",
       "    .dataframe tbody tr th {\n",
       "        vertical-align: top;\n",
       "    }\n",
       "\n",
       "    .dataframe thead th {\n",
       "        text-align: right;\n",
       "    }\n",
       "</style>\n",
       "<table border=\"1\" class=\"dataframe\">\n",
       "  <thead>\n",
       "    <tr style=\"text-align: right;\">\n",
       "      <th></th>\n",
       "      <th>emission_ges_5_usages_energie_n1</th>\n",
       "      <th>conso_5_usages_ef</th>\n",
       "      <th>conso_5_usages_ef_energie_n1</th>\n",
       "      <th>code_departement_ban</th>\n",
       "      <th>emission_ges_5_usages_par_m2</th>\n",
       "      <th>nombre_niveau_immeuble</th>\n",
       "      <th>surface_habitable_immeuble</th>\n",
       "      <th>conso_5_usages_ep</th>\n",
       "      <th>adresse_brut</th>\n",
       "      <th>code_region_ban</th>\n",
       "      <th>...</th>\n",
       "      <th>etiquette_dpe</th>\n",
       "      <th>surface_habitable_logement</th>\n",
       "      <th>_score</th>\n",
       "      <th>code_postal_source</th>\n",
       "      <th>annee_recherche</th>\n",
       "      <th>date_extraction</th>\n",
       "      <th>anne_construction</th>\n",
       "      <th>logement</th>\n",
       "      <th>latitude</th>\n",
       "      <th>longitude</th>\n",
       "    </tr>\n",
       "  </thead>\n",
       "  <tbody>\n",
       "    <tr>\n",
       "      <th>0</th>\n",
       "      <td>27.5</td>\n",
       "      <td>2669.8</td>\n",
       "      <td>2669.8</td>\n",
       "      <td>69.0</td>\n",
       "      <td>1.7</td>\n",
       "      <td>1.0</td>\n",
       "      <td>116.6</td>\n",
       "      <td>6140.5</td>\n",
       "      <td>20, Rue du Général de Gaulle - Lot 4 - Chemin ...</td>\n",
       "      <td>84.0</td>\n",
       "      <td>...</td>\n",
       "      <td>A</td>\n",
       "      <td>116.6</td>\n",
       "      <td>55.134613</td>\n",
       "      <td>69790</td>\n",
       "      <td>2021</td>\n",
       "      <td>2025-10-26 17:03:18</td>\n",
       "      <td>après 2021</td>\n",
       "      <td>neuf</td>\n",
       "      <td>46.216672021669055</td>\n",
       "      <td>4.434402972932283</td>\n",
       "    </tr>\n",
       "    <tr>\n",
       "      <th>1</th>\n",
       "      <td>27.5</td>\n",
       "      <td>2669.8</td>\n",
       "      <td>2669.8</td>\n",
       "      <td>69.0</td>\n",
       "      <td>1.7</td>\n",
       "      <td>1.0</td>\n",
       "      <td>116.6</td>\n",
       "      <td>6140.5</td>\n",
       "      <td>20, Rue du Général de Gaulle - Lot 4 - Chemin ...</td>\n",
       "      <td>84.0</td>\n",
       "      <td>...</td>\n",
       "      <td>A</td>\n",
       "      <td>116.6</td>\n",
       "      <td>55.134613</td>\n",
       "      <td>69790</td>\n",
       "      <td>2022</td>\n",
       "      <td>2025-10-26 17:03:20</td>\n",
       "      <td>après 2021</td>\n",
       "      <td>neuf</td>\n",
       "      <td>46.216672021669055</td>\n",
       "      <td>4.434402972932283</td>\n",
       "    </tr>\n",
       "    <tr>\n",
       "      <th>2</th>\n",
       "      <td>27.5</td>\n",
       "      <td>2669.8</td>\n",
       "      <td>2669.8</td>\n",
       "      <td>69.0</td>\n",
       "      <td>1.7</td>\n",
       "      <td>1.0</td>\n",
       "      <td>116.6</td>\n",
       "      <td>6140.5</td>\n",
       "      <td>20, Rue du Général de Gaulle - Lot 4 - Chemin ...</td>\n",
       "      <td>84.0</td>\n",
       "      <td>...</td>\n",
       "      <td>A</td>\n",
       "      <td>116.6</td>\n",
       "      <td>55.134613</td>\n",
       "      <td>69790</td>\n",
       "      <td>2023</td>\n",
       "      <td>2025-10-26 17:03:22</td>\n",
       "      <td>après 2021</td>\n",
       "      <td>neuf</td>\n",
       "      <td>46.216672021669055</td>\n",
       "      <td>4.434402972932283</td>\n",
       "    </tr>\n",
       "    <tr>\n",
       "      <th>3</th>\n",
       "      <td>27.5</td>\n",
       "      <td>2669.8</td>\n",
       "      <td>2669.8</td>\n",
       "      <td>69.0</td>\n",
       "      <td>1.7</td>\n",
       "      <td>1.0</td>\n",
       "      <td>116.6</td>\n",
       "      <td>6140.5</td>\n",
       "      <td>20, Rue du Général de Gaulle - Lot 4 - Chemin ...</td>\n",
       "      <td>84.0</td>\n",
       "      <td>...</td>\n",
       "      <td>A</td>\n",
       "      <td>116.6</td>\n",
       "      <td>55.134613</td>\n",
       "      <td>69790</td>\n",
       "      <td>2024</td>\n",
       "      <td>2025-10-26 17:03:24</td>\n",
       "      <td>après 2021</td>\n",
       "      <td>neuf</td>\n",
       "      <td>46.216672021669055</td>\n",
       "      <td>4.434402972932283</td>\n",
       "    </tr>\n",
       "    <tr>\n",
       "      <th>4</th>\n",
       "      <td>1251.7</td>\n",
       "      <td>5723.1</td>\n",
       "      <td>5349.0</td>\n",
       "      <td>69.0</td>\n",
       "      <td>18.9</td>\n",
       "      <td>NaN</td>\n",
       "      <td>NaN</td>\n",
       "      <td>6209.4</td>\n",
       "      <td>de Verdun</td>\n",
       "      <td>84.0</td>\n",
       "      <td>...</td>\n",
       "      <td>C</td>\n",
       "      <td>67.8</td>\n",
       "      <td>34.385070</td>\n",
       "      <td>69170</td>\n",
       "      <td>2021</td>\n",
       "      <td>2025-10-26 17:03:27</td>\n",
       "      <td>après 2021</td>\n",
       "      <td>neuf</td>\n",
       "      <td>45.89204299442378</td>\n",
       "      <td>4.436593038144964</td>\n",
       "    </tr>\n",
       "  </tbody>\n",
       "</table>\n",
       "<p>5 rows × 44 columns</p>\n",
       "</div>"
      ],
      "text/plain": [
       "   emission_ges_5_usages_energie_n1  conso_5_usages_ef  \\\n",
       "0                              27.5             2669.8   \n",
       "1                              27.5             2669.8   \n",
       "2                              27.5             2669.8   \n",
       "3                              27.5             2669.8   \n",
       "4                            1251.7             5723.1   \n",
       "\n",
       "   conso_5_usages_ef_energie_n1  code_departement_ban  \\\n",
       "0                        2669.8                  69.0   \n",
       "1                        2669.8                  69.0   \n",
       "2                        2669.8                  69.0   \n",
       "3                        2669.8                  69.0   \n",
       "4                        5349.0                  69.0   \n",
       "\n",
       "   emission_ges_5_usages_par_m2  nombre_niveau_immeuble  \\\n",
       "0                           1.7                     1.0   \n",
       "1                           1.7                     1.0   \n",
       "2                           1.7                     1.0   \n",
       "3                           1.7                     1.0   \n",
       "4                          18.9                     NaN   \n",
       "\n",
       "   surface_habitable_immeuble  conso_5_usages_ep  \\\n",
       "0                       116.6             6140.5   \n",
       "1                       116.6             6140.5   \n",
       "2                       116.6             6140.5   \n",
       "3                       116.6             6140.5   \n",
       "4                         NaN             6209.4   \n",
       "\n",
       "                                        adresse_brut  code_region_ban  ...  \\\n",
       "0  20, Rue du Général de Gaulle - Lot 4 - Chemin ...             84.0  ...   \n",
       "1  20, Rue du Général de Gaulle - Lot 4 - Chemin ...             84.0  ...   \n",
       "2  20, Rue du Général de Gaulle - Lot 4 - Chemin ...             84.0  ...   \n",
       "3  20, Rue du Général de Gaulle - Lot 4 - Chemin ...             84.0  ...   \n",
       "4                                          de Verdun             84.0  ...   \n",
       "\n",
       "   etiquette_dpe  surface_habitable_logement     _score  code_postal_source  \\\n",
       "0              A                       116.6  55.134613               69790   \n",
       "1              A                       116.6  55.134613               69790   \n",
       "2              A                       116.6  55.134613               69790   \n",
       "3              A                       116.6  55.134613               69790   \n",
       "4              C                        67.8  34.385070               69170   \n",
       "\n",
       "   annee_recherche      date_extraction  anne_construction logement  \\\n",
       "0             2021  2025-10-26 17:03:18         après 2021     neuf   \n",
       "1             2022  2025-10-26 17:03:20         après 2021     neuf   \n",
       "2             2023  2025-10-26 17:03:22         après 2021     neuf   \n",
       "3             2024  2025-10-26 17:03:24         après 2021     neuf   \n",
       "4             2021  2025-10-26 17:03:27         après 2021     neuf   \n",
       "\n",
       "             latitude          longitude  \n",
       "0  46.216672021669055  4.434402972932283  \n",
       "1  46.216672021669055  4.434402972932283  \n",
       "2  46.216672021669055  4.434402972932283  \n",
       "3  46.216672021669055  4.434402972932283  \n",
       "4   45.89204299442378  4.436593038144964  \n",
       "\n",
       "[5 rows x 44 columns]"
      ]
     },
     "execution_count": 142,
     "metadata": {},
     "output_type": "execute_result"
    }
   ],
   "source": [
    "df_logement_neuf.head(5)"
   ]
  },
  {
   "cell_type": "code",
   "execution_count": 144,
   "id": "1102930f",
   "metadata": {},
   "outputs": [
    {
     "data": {
      "text/plain": [
       "(160420, 44)"
      ]
     },
     "execution_count": 144,
     "metadata": {},
     "output_type": "execute_result"
    }
   ],
   "source": [
    "df_logement_neuf.shape"
   ]
  },
  {
   "cell_type": "markdown",
   "id": "c48375fb",
   "metadata": {},
   "source": [
    "1. type_energie_principale_chauffage"
   ]
  },
  {
   "cell_type": "code",
   "execution_count": 146,
   "id": "3c716dd2",
   "metadata": {},
   "outputs": [
    {
     "data": {
      "text/plain": [
       "type_energie_principale_chauffage\n",
       "Gaz naturel                                76204\n",
       "Électricité                                58008\n",
       "Réseau de Chauffage urbain                 24112\n",
       "Bois – Granulés (pellets) ou briquettes     1128\n",
       "Bois – Plaquettes forestières                512\n",
       "Bois – Plaquettes d’industrie                320\n",
       "GPL                                          104\n",
       "Bois – Bûches                                 32\n",
       "Name: count, dtype: int64"
      ]
     },
     "execution_count": 146,
     "metadata": {},
     "output_type": "execute_result"
    }
   ],
   "source": [
    "df_logement_neuf['type_energie_principale_chauffage'].value_counts()"
   ]
  },
  {
   "cell_type": "code",
   "execution_count": 147,
   "id": "c8942128",
   "metadata": {},
   "outputs": [],
   "source": [
    "#Regroupement des types d'énergie principale de chauffage\n",
    "energie_regroupement = {\n",
    "    'Gaz naturel': 'Gaz naturel',\n",
    "    'Électricité': 'Électricité',\n",
    "    'Réseau de Chauffage urbain': 'Réseau de chauffage urbain',\n",
    "    'Bois – Granulés (pellets) ou briquettes': 'Bois et biomasse',\n",
    "    'Bois – Bûches': 'Bois et biomasse',\n",
    "    'Bois – Plaquettes d’industrie': 'Bois et biomasse',\n",
    "    'Bois – Plaquettes forestières': 'Bois et biomasse',\n",
    "    'GPL': 'Gaz (GPL/Propane/Butane)'\n",
    "}\n",
    "\n",
    "# Appliquer le mapping\n",
    "df_logement_neuf['type_energie_principale_chauffage'] = df_logement_neuf['type_energie_principale_chauffage'].map(energie_regroupement)"
   ]
  },
  {
   "cell_type": "code",
   "execution_count": 148,
   "id": "985cd962",
   "metadata": {},
   "outputs": [
    {
     "data": {
      "text/plain": [
       "type_energie_principale_chauffage\n",
       "Gaz naturel                   76204\n",
       "Électricité                   58008\n",
       "Réseau de chauffage urbain    24112\n",
       "Bois et biomasse               1992\n",
       "Gaz (GPL/Propane/Butane)        104\n",
       "Name: count, dtype: int64"
      ]
     },
     "execution_count": 148,
     "metadata": {},
     "output_type": "execute_result"
    }
   ],
   "source": [
    "df_logement_neuf['type_energie_principale_chauffage'].value_counts()"
   ]
  },
  {
   "cell_type": "code",
   "execution_count": 116,
   "id": "c6ecb10a",
   "metadata": {},
   "outputs": [],
   "source": [
    "#Création colonne 'annee_construction' et 'logement'\n",
    "df_logement_neuf['anne_construction'] = 'après 2021'\n",
    "df_logement_neuf['logement'] = 'neuf'"
   ]
  },
  {
   "cell_type": "markdown",
   "id": "2c3dcec1",
   "metadata": {},
   "source": [
    "2. Latitude et Longitude"
   ]
  },
  {
   "cell_type": "code",
   "execution_count": 134,
   "id": "76a758a6",
   "metadata": {},
   "outputs": [],
   "source": [
    "df_logement_neuf[['latitude', 'longitude']] = df_logement_neuf['_geopoint'].str.split(',', expand=True)"
   ]
  },
  {
   "cell_type": "code",
   "execution_count": 135,
   "id": "b28add90",
   "metadata": {},
   "outputs": [
    {
     "data": {
      "text/plain": [
       "0         46.216672021669055\n",
       "1         46.216672021669055\n",
       "2         46.216672021669055\n",
       "3         46.216672021669055\n",
       "4          45.89204299442378\n",
       "                 ...        \n",
       "160415     45.71486695832238\n",
       "160416    45.724716977865064\n",
       "160417    45.719397981744976\n",
       "160418     45.72130801936334\n",
       "160419    45.729212006772464\n",
       "Name: latitude, Length: 160420, dtype: object"
      ]
     },
     "execution_count": 135,
     "metadata": {},
     "output_type": "execute_result"
    }
   ],
   "source": [
    "df_logement_neuf['latitude']"
   ]
  },
  {
   "cell_type": "code",
   "execution_count": 138,
   "id": "74a81f34",
   "metadata": {},
   "outputs": [],
   "source": [
    "#Supprimer géopoint\n",
    "df_logement_neuf = df_logement_neuf.drop(columns=['_geopoint'])"
   ]
  },
  {
   "cell_type": "markdown",
   "id": "e051e470",
   "metadata": {},
   "source": [
    "3. Surface"
   ]
  },
  {
   "cell_type": "code",
   "execution_count": 151,
   "id": "e4b3b664",
   "metadata": {},
   "outputs": [
    {
     "name": "stdout",
     "output_type": "stream",
     "text": [
      "1.0073556913103103\n",
      "8.704650292980926\n"
     ]
    }
   ],
   "source": [
    "#Surface imeuble, surface_habitale, surface_chauffee\n",
    "#surface_habitable_logement\n",
    "#surface_habitable_immeuble\n",
    "\n",
    "print(df_logement_neuf['surface_habitable_logement'].isnull().mean() * 100)\n",
    "print(df_logement_neuf['surface_habitable_immeuble'].isnull().mean() * 100)\n",
    "\n",
    "\n"
   ]
  },
  {
   "cell_type": "code",
   "execution_count": 152,
   "id": "608d5d44",
   "metadata": {},
   "outputs": [
    {
     "name": "stdout",
     "output_type": "stream",
     "text": [
      "404\n"
     ]
    }
   ],
   "source": [
    "missing_surface_neuf = df_logement_neuf[\n",
    "    df_logement_neuf['surface_habitable_logement'].isnull() &\n",
    "    df_logement_neuf['surface_habitable_immeuble'].isnull()\n",
    "]\n",
    "print(missing_surface_neuf.shape[0])"
   ]
  },
  {
   "cell_type": "code",
   "execution_count": 153,
   "id": "6f0ba9d1",
   "metadata": {},
   "outputs": [],
   "source": [
    "df_logement_neuf = df_logement_neuf.drop(missing_surface_neuf.index)"
   ]
  },
  {
   "cell_type": "code",
   "execution_count": null,
   "id": "5388d710",
   "metadata": {},
   "outputs": [
    {
     "name": "stdout",
     "output_type": "stream",
     "text": [
      "0.7574242575742426\n"
     ]
    }
   ],
   "source": [
    "print(df_logement_neuf['surface_habitable_logement'].isnull().mean() * 100)"
   ]
  },
  {
   "cell_type": "code",
   "execution_count": 159,
   "id": "2af1e8f8",
   "metadata": {},
   "outputs": [
    {
     "data": {
      "text/plain": [
       "surface_habitable_logement\n",
       "False    158804\n",
       "True       1212\n",
       "Name: count, dtype: int64"
      ]
     },
     "execution_count": 159,
     "metadata": {},
     "output_type": "execute_result"
    }
   ],
   "source": [
    "(df_logement_neuf['surface_habitable_logement'].isnull()).value_counts()"
   ]
  },
  {
   "cell_type": "code",
   "execution_count": 160,
   "id": "e004684c",
   "metadata": {},
   "outputs": [],
   "source": [
    "df_logement_neuf = df_logement_neuf.dropna(subset=['surface_habitable_logement'])"
   ]
  },
  {
   "cell_type": "code",
   "execution_count": 139,
   "id": "8fe755a6",
   "metadata": {},
   "outputs": [
    {
     "name": "stdout",
     "output_type": "stream",
     "text": [
      "conso_5_usages_ef                            0.000403\n",
      "conso_5_usages_ef_energie_n1                 0.000403\n",
      "conso_chauffage_installation_chauffage_n1    2.262553\n",
      "code_departement_ban                         0.098232\n",
      "type_installation_chauffage_n1               2.262553\n",
      "type_generateur_n1_installation_n1           2.262553\n",
      "adresse_brut                                 0.001610\n",
      "code_region_ban                              0.098232\n",
      "cout_total_5_usages                          0.001610\n",
      "zone_climatique                              0.066830\n",
      "qualite_isolation_murs                       0.008454\n",
      "classe_altitude                              0.066830\n",
      "cout_total_5_usages_energie_n1               0.001208\n",
      "adresse_ban                                  0.212567\n",
      "numero_etage_appartement                     9.313504\n",
      "nom_rue_ban                                  2.930046\n",
      "nombre_appartement                           6.604883\n",
      "dtype: float64\n"
     ]
    }
   ],
   "source": [
    "vm_percentage = df_logement_neuf.isnull().mean() * 100\n",
    "vm_percentage = missing_percentage[missing_percentage > 0]\n",
    "print(vm_percentage)"
   ]
  },
  {
   "cell_type": "markdown",
   "id": "c063be05",
   "metadata": {},
   "source": [
    "# Fusionner"
   ]
  },
  {
   "cell_type": "code",
   "execution_count": 163,
   "id": "be46c874",
   "metadata": {},
   "outputs": [
    {
     "data": {
      "text/plain": [
       "['adresse_ban',\n",
       " '_score',\n",
       " 'conso_5_usages_ef',\n",
       " 'code_postal_ban',\n",
       " 'nom_commune_ban',\n",
       " 'nombre_appartement',\n",
       " 'type_energie_principale_chauffage',\n",
       " 'date_reception_dpe',\n",
       " 'logement',\n",
       " 'type_batiment',\n",
       " 'latitude',\n",
       " 'conso_5_usages_ef_energie_n1',\n",
       " 'cout_total_5_usages',\n",
       " 'coordonnee_cartographique_y_ban',\n",
       " 'adresse_brut',\n",
       " 'qualite_isolation_murs',\n",
       " 'coordonnee_cartographique_x_ban',\n",
       " 'surface_habitable_logement',\n",
       " 'code_postal_source',\n",
       " 'annee_recherche',\n",
       " 'code_region_ban',\n",
       " 'code_departement_ban',\n",
       " 'nom_rue_ban',\n",
       " 'cout_total_5_usages_energie_n1',\n",
       " 'etiquette_dpe',\n",
       " 'hauteur_sous_plafond',\n",
       " 'longitude',\n",
       " 'type_energie_n1',\n",
       " 'date_extraction']"
      ]
     },
     "execution_count": 163,
     "metadata": {},
     "output_type": "execute_result"
    }
   ],
   "source": [
    "#Fusionner les deux datasets \n",
    "colonne_communes = list(set(df_logement_anscien.columns) & set(df_logement_neuf.columns))\n",
    "colonne_communes"
   ]
  },
  {
   "cell_type": "code",
   "execution_count": 164,
   "id": "24ee2c16",
   "metadata": {},
   "outputs": [],
   "source": [
    "df_logement = pd.concat((df_logement_anscien, df_logement_neuf), join='inner')"
   ]
  },
  {
   "cell_type": "markdown",
   "id": "b311faf1",
   "metadata": {},
   "source": [
    "# DATASET ENTIER"
   ]
  },
  {
   "cell_type": "code",
   "execution_count": 165,
   "id": "08273d19",
   "metadata": {},
   "outputs": [
    {
     "data": {
      "text/plain": [
       "(1152372, 29)"
      ]
     },
     "execution_count": 165,
     "metadata": {},
     "output_type": "execute_result"
    }
   ],
   "source": [
    "df_logement.shape"
   ]
  },
  {
   "cell_type": "code",
   "execution_count": 169,
   "id": "cedcf37b",
   "metadata": {},
   "outputs": [
    {
     "name": "stdout",
     "output_type": "stream",
     "text": [
      "<class 'pandas.core.frame.DataFrame'>\n",
      "Index: 158804 entries, 0 to 160419\n",
      "Data columns (total 44 columns):\n",
      " #   Column                             Non-Null Count   Dtype  \n",
      "---  ------                             --------------   -----  \n",
      " 0   emission_ges_5_usages_energie_n1   158804 non-null  float64\n",
      " 1   conso_5_usages_ef                  158804 non-null  float64\n",
      " 2   conso_5_usages_ef_energie_n1       158804 non-null  float64\n",
      " 3   code_departement_ban               158740 non-null  float64\n",
      " 4   emission_ges_5_usages_par_m2       158804 non-null  float64\n",
      " 5   nombre_niveau_immeuble             145412 non-null  float64\n",
      " 6   surface_habitable_immeuble         145244 non-null  float64\n",
      " 7   conso_5_usages_ep                  158804 non-null  float64\n",
      " 8   adresse_brut                       158800 non-null  object \n",
      " 9   code_region_ban                    158740 non-null  float64\n",
      " 10  cout_total_5_usages                158804 non-null  float64\n",
      " 11  conso_5_usages_par_m2_ep           158804 non-null  float64\n",
      " 12  date_etablissement_dpe             158804 non-null  object \n",
      " 13  conso_ecs_ef_energie_n1            158804 non-null  float64\n",
      " 14  hauteur_sous_plafond               158804 non-null  float64\n",
      " 15  nom_commune_ban                    158804 non-null  object \n",
      " 16  conso_5_usages_par_m2_ef           158804 non-null  float64\n",
      " 17  nom_rue_ban                        151476 non-null  object \n",
      " 18  coordonnee_cartographique_x_ban    158804 non-null  float64\n",
      " 19  qualite_isolation_murs             158804 non-null  object \n",
      " 20  type_batiment                      158804 non-null  object \n",
      " 21  type_energie_principale_chauffage  158804 non-null  object \n",
      " 22  date_reception_dpe                 158804 non-null  object \n",
      " 23  cout_total_5_usages_energie_n1     158804 non-null  float64\n",
      " 24  qualite_isolation_plancher_bas     158664 non-null  object \n",
      " 25  emission_ges_5_usages              158804 non-null  float64\n",
      " 26  adresse_ban                        158804 non-null  object \n",
      " 27  nombre_appartement                 151028 non-null  float64\n",
      " 28  coordonnee_cartographique_y_ban    158804 non-null  float64\n",
      " 29  code_postal_brut                   158804 non-null  int64  \n",
      " 30  type_energie_n1                    158804 non-null  object \n",
      " 31  nom_commune_brut                   158800 non-null  object \n",
      " 32  nombre_niveau_logement             127920 non-null  float64\n",
      " 33  code_postal_ban                    158804 non-null  int64  \n",
      " 34  etiquette_dpe                      158804 non-null  object \n",
      " 35  surface_habitable_logement         158804 non-null  float64\n",
      " 36  _score                             158804 non-null  float64\n",
      " 37  code_postal_source                 158804 non-null  int64  \n",
      " 38  annee_recherche                    158804 non-null  int64  \n",
      " 39  date_extraction                    158804 non-null  object \n",
      " 40  anne_construction                  158804 non-null  object \n",
      " 41  logement                           158804 non-null  object \n",
      " 42  latitude                           158804 non-null  object \n",
      " 43  longitude                          158804 non-null  object \n",
      "dtypes: float64(22), int64(4), object(18)\n",
      "memory usage: 54.5+ MB\n"
     ]
    }
   ],
   "source": [
    "df_logement_neuf.info()"
   ]
  },
  {
   "cell_type": "code",
   "execution_count": 166,
   "id": "df911900",
   "metadata": {},
   "outputs": [
    {
     "name": "stdout",
     "output_type": "stream",
     "text": [
      "conso_5_usages_ef                 0.000347\n",
      "conso_5_usages_ef_energie_n1      0.000347\n",
      "code_departement_ban              0.090249\n",
      "adresse_brut                      0.001736\n",
      "code_region_ban                   0.090249\n",
      "cout_total_5_usages               0.001388\n",
      "qualite_isolation_murs            0.007289\n",
      "cout_total_5_usages_energie_n1    0.001041\n",
      "adresse_ban                       0.183274\n",
      "nom_rue_ban                       3.162173\n",
      "nombre_appartement                6.369471\n",
      "dtype: float64\n"
     ]
    }
   ],
   "source": [
    "vm_percentage = df_logement.isnull().mean() * 100\n",
    "vm_percentage = vm_percentage[vm_percentage > 0]\n",
    "print(vm_percentage)"
   ]
  },
  {
   "cell_type": "code",
   "execution_count": 170,
   "id": "3931bc80",
   "metadata": {},
   "outputs": [
    {
     "data": {
      "text/plain": [
       "np.int64(4)"
      ]
     },
     "execution_count": 170,
     "metadata": {},
     "output_type": "execute_result"
    }
   ],
   "source": [
    "df_logement['conso_5_usages_ef'].isnull().sum()"
   ]
  },
  {
   "cell_type": "code",
   "execution_count": 171,
   "id": "c5f28cfc",
   "metadata": {},
   "outputs": [],
   "source": [
    "df_logement = df_logement.dropna(subset=['conso_5_usages_ef'])"
   ]
  },
  {
   "cell_type": "code",
   "execution_count": 172,
   "id": "dd6bd166",
   "metadata": {},
   "outputs": [
    {
     "name": "stdout",
     "output_type": "stream",
     "text": [
      "code_departement_ban              0.090249\n",
      "adresse_brut                      0.001736\n",
      "code_region_ban                   0.090249\n",
      "cout_total_5_usages               0.001041\n",
      "qualite_isolation_murs            0.007289\n",
      "cout_total_5_usages_energie_n1    0.000694\n",
      "adresse_ban                       0.183275\n",
      "nom_rue_ban                       3.162184\n",
      "nombre_appartement                6.369493\n",
      "dtype: float64\n"
     ]
    }
   ],
   "source": [
    "vm_percentage = df_logement.isnull().mean() * 100\n",
    "vm_percentage = vm_percentage[vm_percentage > 0]\n",
    "print(vm_percentage)"
   ]
  },
  {
   "cell_type": "code",
   "execution_count": 175,
   "id": "a0084055",
   "metadata": {},
   "outputs": [
    {
     "data": {
      "text/plain": [
       "np.int64(12)"
      ]
     },
     "execution_count": 175,
     "metadata": {},
     "output_type": "execute_result"
    }
   ],
   "source": [
    "df_logement['cout_total_5_usages'].isnull().sum()"
   ]
  },
  {
   "cell_type": "code",
   "execution_count": 176,
   "id": "ec631e7d",
   "metadata": {},
   "outputs": [],
   "source": [
    "df_logement = df_logement.dropna(subset=['cout_total_5_usages'])"
   ]
  },
  {
   "cell_type": "code",
   "execution_count": 177,
   "id": "0a7da303",
   "metadata": {},
   "outputs": [
    {
     "name": "stdout",
     "output_type": "stream",
     "text": [
      "code_departement_ban      0.090250\n",
      "adresse_brut              0.001736\n",
      "code_region_ban           0.090250\n",
      "qualite_isolation_murs    0.007289\n",
      "adresse_ban               0.183277\n",
      "nom_rue_ban               3.162217\n",
      "nombre_appartement        6.369559\n",
      "dtype: float64\n"
     ]
    }
   ],
   "source": [
    "vm_percentage = df_logement.isnull().mean() * 100\n",
    "vm_percentage = vm_percentage[vm_percentage > 0]\n",
    "print(vm_percentage)"
   ]
  },
  {
   "cell_type": "code",
   "execution_count": 178,
   "id": "3e95ff99",
   "metadata": {},
   "outputs": [
    {
     "data": {
      "text/plain": [
       "np.int64(84)"
      ]
     },
     "execution_count": 178,
     "metadata": {},
     "output_type": "execute_result"
    }
   ],
   "source": [
    "df_logement['qualite_isolation_murs'].isnull().sum()"
   ]
  },
  {
   "cell_type": "code",
   "execution_count": 179,
   "id": "f5da1243",
   "metadata": {},
   "outputs": [
    {
     "data": {
      "text/plain": [
       "(1152356, 29)"
      ]
     },
     "execution_count": 179,
     "metadata": {},
     "output_type": "execute_result"
    }
   ],
   "source": [
    "df_logement.shape"
   ]
  },
  {
   "cell_type": "code",
   "execution_count": 180,
   "id": "562ff0d2",
   "metadata": {},
   "outputs": [],
   "source": [
    "df_logement = df_logement.dropna(subset=['qualite_isolation_murs'])"
   ]
  },
  {
   "cell_type": "code",
   "execution_count": 181,
   "id": "1da554b0",
   "metadata": {},
   "outputs": [
    {
     "data": {
      "text/plain": [
       "(1152272, 29)"
      ]
     },
     "execution_count": 181,
     "metadata": {},
     "output_type": "execute_result"
    }
   ],
   "source": [
    "df_logement.shape"
   ]
  },
  {
   "cell_type": "code",
   "execution_count": 182,
   "id": "e2344db8",
   "metadata": {},
   "outputs": [
    {
     "name": "stdout",
     "output_type": "stream",
     "text": [
      "code_departement_ban    0.090256\n",
      "adresse_brut            0.001736\n",
      "code_region_ban         0.090256\n",
      "adresse_ban             0.183290\n",
      "nom_rue_ban             3.162448\n",
      "nombre_appartement      6.370024\n",
      "dtype: float64\n"
     ]
    }
   ],
   "source": [
    "vm_percentage = df_logement.isnull().mean() * 100\n",
    "vm_percentage = vm_percentage[vm_percentage > 0]\n",
    "print(vm_percentage)"
   ]
  },
  {
   "cell_type": "code",
   "execution_count": 183,
   "id": "408be2e2",
   "metadata": {},
   "outputs": [
    {
     "data": {
      "text/plain": [
       "qualite_isolation_murs\n",
       "insuffisante    554808\n",
       "très bonne      248984\n",
       "bonne           231980\n",
       "moyenne         116500\n",
       "Name: count, dtype: int64"
      ]
     },
     "execution_count": 183,
     "metadata": {},
     "output_type": "execute_result"
    }
   ],
   "source": [
    "df_logement['qualite_isolation_murs'].value_counts()"
   ]
  },
  {
   "cell_type": "code",
   "execution_count": 185,
   "id": "9caa4fd7",
   "metadata": {},
   "outputs": [
    {
     "data": {
      "text/plain": [
       "etiquette_dpe\n",
       "C    472672\n",
       "D    335772\n",
       "E    179460\n",
       "F     54748\n",
       "B     52976\n",
       "G     32488\n",
       "A     24156\n",
       "Name: count, dtype: int64"
      ]
     },
     "execution_count": 185,
     "metadata": {},
     "output_type": "execute_result"
    }
   ],
   "source": [
    "df_logement[\"etiquette_dpe\"].value_counts()"
   ]
  },
  {
   "cell_type": "code",
   "execution_count": 186,
   "id": "5da50e9a",
   "metadata": {},
   "outputs": [],
   "source": [
    "df_logement.to_csv('df_logement', sep=';', index=False)"
   ]
  }
 ],
 "metadata": {
  "kernelspec": {
   "display_name": "env-m2ENEDIS",
   "language": "python",
   "name": "python3"
  },
  "language_info": {
   "codemirror_mode": {
    "name": "ipython",
    "version": 3
   },
   "file_extension": ".py",
   "mimetype": "text/x-python",
   "name": "python",
   "nbconvert_exporter": "python",
   "pygments_lexer": "ipython3",
   "version": "3.13.1"
  }
 },
 "nbformat": 4,
 "nbformat_minor": 5
}
